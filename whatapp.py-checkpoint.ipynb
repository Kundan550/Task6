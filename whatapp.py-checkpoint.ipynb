{
 "cells": [
  {
   "cell_type": "code",
   "execution_count": null,
   "id": "37fe6987",
   "metadata": {},
   "outputs": [],
   "source": [
    "from datetime import datetime\n",
    "import pywhatkit\n",
    "now = datetime.now()\n",
    "\n",
    "time = now.strftime(\"%m %M\")\n",
    "hours = now.strftime(\"%d %H\")\n",
    "\n",
    "\n",
    "hour=int(hours[3:5]) \n",
    "minute=int(time[3:6]) + 2\n",
    "\n",
    "pywhatkit.sendwhatmsg('+919926436393','face detected..!',hour,minute)"
   ]
  }
 ],
 "metadata": {
  "kernelspec": {
   "display_name": "Python 3",
   "language": "python",
   "name": "python3"
  },
  "language_info": {
   "codemirror_mode": {
    "name": "ipython",
    "version": 3
   },
   "file_extension": ".py",
   "mimetype": "text/x-python",
   "name": "python",
   "nbconvert_exporter": "python",
   "pygments_lexer": "ipython3",
   "version": "3.8.8"
  }
 },
 "nbformat": 4,
 "nbformat_minor": 5
}
