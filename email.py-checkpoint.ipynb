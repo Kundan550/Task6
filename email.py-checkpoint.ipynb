{
 "cells": [
  {
   "cell_type": "code",
   "execution_count": null,
   "id": "dff6a10d",
   "metadata": {},
   "outputs": [],
   "source": [
    "import smtplib\n",
    "from email.message import EmailMessage\n",
    "msg=EmailMessage()\n",
    "msg['Subject']='kundan is logging in'\n",
    "msg['From']='kundan Laptop'\n",
    "msg['To']='gurjarkundan12345@gmail.com'\n",
    "msg.set_content('kundan is logging in..!')\n",
    "server=smtplib.SMTP_SSL(\"kp.gmail.com\",465)\n",
    "server.login('gurjarkundan12345@gmail.com','**********')\n",
    "server.send_message(msg)\n",
    "server.quit()"
   ]
  }
 ],
 "metadata": {
  "kernelspec": {
   "display_name": "Python 3",
   "language": "python",
   "name": "python3"
  },
  "language_info": {
   "codemirror_mode": {
    "name": "ipython",
    "version": 3
   },
   "file_extension": ".py",
   "mimetype": "text/x-python",
   "name": "python",
   "nbconvert_exporter": "python",
   "pygments_lexer": "ipython3",
   "version": "3.8.8"
  }
 },
 "nbformat": 4,
 "nbformat_minor": 5
}
